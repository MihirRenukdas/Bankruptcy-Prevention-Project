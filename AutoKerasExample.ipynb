{
 "cells": [
  {
   "cell_type": "code",
   "execution_count": 3,
   "id": "ab1db471",
   "metadata": {
    "ExecuteTime": {
     "end_time": "2021-11-24T20:20:46.082334Z",
     "start_time": "2021-11-24T20:17:55.399356Z"
    }
   },
   "outputs": [
    {
     "name": "stdout",
     "output_type": "stream",
     "text": [
      "Collecting autokeras\n",
      "  Downloading autokeras-1.0.16.post1-py3-none-any.whl (166 kB)\n",
      "Requirement already satisfied: pandas in c:\\users\\geeta\\anaconda3\\lib\\site-packages (from autokeras) (1.2.4)\n",
      "Collecting tensorflow<2.6,>=2.3.0\n",
      "  Downloading tensorflow-2.5.2-cp38-cp38-win_amd64.whl (422.7 MB)\n",
      "Requirement already satisfied: packaging in c:\\users\\geeta\\anaconda3\\lib\\site-packages (from autokeras) (20.9)\n",
      "Collecting keras-tuner<1.1,>=1.0.2\n",
      "  Downloading keras_tuner-1.0.4-py3-none-any.whl (97 kB)\n",
      "Requirement already satisfied: scikit-learn in c:\\users\\geeta\\anaconda3\\lib\\site-packages (from autokeras) (0.23.2)\n",
      "Requirement already satisfied: scipy in c:\\users\\geeta\\anaconda3\\lib\\site-packages (from keras-tuner<1.1,>=1.0.2->autokeras) (1.5.4)\n",
      "Requirement already satisfied: requests in c:\\users\\geeta\\anaconda3\\lib\\site-packages (from keras-tuner<1.1,>=1.0.2->autokeras) (2.25.1)\n",
      "Collecting kt-legacy\n",
      "  Downloading kt_legacy-1.0.4-py3-none-any.whl (9.6 kB)\n",
      "Requirement already satisfied: numpy in c:\\users\\geeta\\anaconda3\\lib\\site-packages (from keras-tuner<1.1,>=1.0.2->autokeras) (1.19.5)\n",
      "Collecting tensorboard\n",
      "  Downloading tensorboard-2.7.0-py3-none-any.whl (5.8 MB)\n",
      "Requirement already satisfied: ipython in c:\\users\\geeta\\anaconda3\\lib\\site-packages (from keras-tuner<1.1,>=1.0.2->autokeras) (7.22.0)\n",
      "Collecting astunparse~=1.6.3\n",
      "  Using cached astunparse-1.6.3-py2.py3-none-any.whl (12 kB)\n",
      "Collecting absl-py~=0.10\n",
      "  Downloading absl_py-0.15.0-py3-none-any.whl (132 kB)\n",
      "Collecting tensorflow-estimator<2.6.0,>=2.5.0\n",
      "  Downloading tensorflow_estimator-2.5.0-py2.py3-none-any.whl (462 kB)\n",
      "Collecting termcolor~=1.1.0\n",
      "  Using cached termcolor-1.1.0-py3-none-any.whl\n",
      "Collecting keras-nightly~=2.5.0.dev\n",
      "  Downloading keras_nightly-2.5.0.dev2021032900-py2.py3-none-any.whl (1.2 MB)\n",
      "Requirement already satisfied: wheel~=0.35 in c:\\users\\geeta\\anaconda3\\lib\\site-packages (from tensorflow<2.6,>=2.3.0->autokeras) (0.36.2)\n",
      "Collecting h5py~=3.1.0\n",
      "  Using cached h5py-3.1.0-cp38-cp38-win_amd64.whl (2.7 MB)\n",
      "Requirement already satisfied: protobuf>=3.9.2 in c:\\users\\geeta\\anaconda3\\lib\\site-packages (from tensorflow<2.6,>=2.3.0->autokeras) (3.19.1)\n",
      "Collecting grpcio~=1.34.0\n",
      "  Downloading grpcio-1.34.1-cp38-cp38-win_amd64.whl (2.9 MB)\n",
      "Collecting gast==0.4.0\n",
      "  Using cached gast-0.4.0-py3-none-any.whl (9.8 kB)\n",
      "Requirement already satisfied: wrapt~=1.12.1 in c:\\users\\geeta\\anaconda3\\lib\\site-packages (from tensorflow<2.6,>=2.3.0->autokeras) (1.12.1)\n",
      "Requirement already satisfied: six~=1.15.0 in c:\\users\\geeta\\anaconda3\\lib\\site-packages (from tensorflow<2.6,>=2.3.0->autokeras) (1.15.0)\n",
      "Collecting opt-einsum~=3.3.0\n",
      "  Using cached opt_einsum-3.3.0-py3-none-any.whl (65 kB)\n",
      "Collecting flatbuffers~=1.12.0\n",
      "  Using cached flatbuffers-1.12-py2.py3-none-any.whl (15 kB)\n",
      "Collecting google-pasta~=0.2\n",
      "  Using cached google_pasta-0.2.0-py3-none-any.whl (57 kB)\n",
      "Requirement already satisfied: typing-extensions~=3.7.4 in c:\\users\\geeta\\anaconda3\\lib\\site-packages (from tensorflow<2.6,>=2.3.0->autokeras) (3.7.4.3)\n",
      "Collecting keras-preprocessing~=1.1.2\n",
      "  Using cached Keras_Preprocessing-1.1.2-py2.py3-none-any.whl (42 kB)\n",
      "Collecting google-auth-oauthlib<0.5,>=0.4.1\n",
      "  Using cached google_auth_oauthlib-0.4.6-py2.py3-none-any.whl (18 kB)\n",
      "Collecting tensorboard-data-server<0.7.0,>=0.6.0\n",
      "  Using cached tensorboard_data_server-0.6.1-py3-none-any.whl (2.4 kB)\n",
      "Requirement already satisfied: setuptools>=41.0.0 in c:\\users\\geeta\\anaconda3\\lib\\site-packages (from tensorboard->keras-tuner<1.1,>=1.0.2->autokeras) (52.0.0.post20210125)\n",
      "Collecting tensorboard-plugin-wit>=1.6.0\n",
      "  Using cached tensorboard_plugin_wit-1.8.0-py3-none-any.whl (781 kB)\n",
      "Requirement already satisfied: werkzeug>=0.11.15 in c:\\users\\geeta\\anaconda3\\lib\\site-packages (from tensorboard->keras-tuner<1.1,>=1.0.2->autokeras) (1.0.1)\n",
      "Collecting markdown>=2.6.8\n",
      "  Downloading Markdown-3.3.6-py3-none-any.whl (97 kB)\n",
      "Collecting google-auth<3,>=1.6.3\n",
      "  Downloading google_auth-2.3.3-py2.py3-none-any.whl (155 kB)\n",
      "Collecting rsa<5,>=3.1.4\n",
      "  Downloading rsa-4.8-py3-none-any.whl (39 kB)\n",
      "Collecting pyasn1-modules>=0.2.1\n",
      "  Using cached pyasn1_modules-0.2.8-py2.py3-none-any.whl (155 kB)\n",
      "Requirement already satisfied: cachetools<5.0,>=2.0.0 in c:\\users\\geeta\\anaconda3\\lib\\site-packages (from google-auth<3,>=1.6.3->tensorboard->keras-tuner<1.1,>=1.0.2->autokeras) (4.2.4)\n",
      "Collecting requests-oauthlib>=0.7.0\n",
      "  Using cached requests_oauthlib-1.3.0-py2.py3-none-any.whl (23 kB)\n",
      "Collecting importlib-metadata>=4.4\n",
      "  Downloading importlib_metadata-4.8.2-py3-none-any.whl (17 kB)\n",
      "Requirement already satisfied: zipp>=0.5 in c:\\users\\geeta\\anaconda3\\lib\\site-packages (from importlib-metadata>=4.4->markdown>=2.6.8->tensorboard->keras-tuner<1.1,>=1.0.2->autokeras) (3.4.1)\n",
      "Collecting pyasn1<0.5.0,>=0.4.6\n",
      "  Using cached pyasn1-0.4.8-py2.py3-none-any.whl (77 kB)\n",
      "Requirement already satisfied: idna<3,>=2.5 in c:\\users\\geeta\\anaconda3\\lib\\site-packages (from requests->keras-tuner<1.1,>=1.0.2->autokeras) (2.10)\n",
      "Requirement already satisfied: urllib3<1.27,>=1.21.1 in c:\\users\\geeta\\anaconda3\\lib\\site-packages (from requests->keras-tuner<1.1,>=1.0.2->autokeras) (1.26.4)\n",
      "Requirement already satisfied: certifi>=2017.4.17 in c:\\users\\geeta\\anaconda3\\lib\\site-packages (from requests->keras-tuner<1.1,>=1.0.2->autokeras) (2021.10.8)\n",
      "Requirement already satisfied: chardet<5,>=3.0.2 in c:\\users\\geeta\\anaconda3\\lib\\site-packages (from requests->keras-tuner<1.1,>=1.0.2->autokeras) (4.0.0)\n",
      "Collecting oauthlib>=3.0.0\n",
      "  Using cached oauthlib-3.1.1-py2.py3-none-any.whl (146 kB)\n",
      "Requirement already satisfied: pygments in c:\\users\\geeta\\anaconda3\\lib\\site-packages (from ipython->keras-tuner<1.1,>=1.0.2->autokeras) (2.8.1)\n",
      "Requirement already satisfied: traitlets>=4.2 in c:\\users\\geeta\\anaconda3\\lib\\site-packages (from ipython->keras-tuner<1.1,>=1.0.2->autokeras) (5.0.5)\n",
      "Requirement already satisfied: prompt-toolkit!=3.0.0,!=3.0.1,<3.1.0,>=2.0.0 in c:\\users\\geeta\\anaconda3\\lib\\site-packages (from ipython->keras-tuner<1.1,>=1.0.2->autokeras) (3.0.17)\n",
      "Requirement already satisfied: colorama in c:\\users\\geeta\\anaconda3\\lib\\site-packages (from ipython->keras-tuner<1.1,>=1.0.2->autokeras) (0.4.4)\n",
      "Requirement already satisfied: pickleshare in c:\\users\\geeta\\anaconda3\\lib\\site-packages (from ipython->keras-tuner<1.1,>=1.0.2->autokeras) (0.7.5)\n",
      "Requirement already satisfied: decorator in c:\\users\\geeta\\anaconda3\\lib\\site-packages (from ipython->keras-tuner<1.1,>=1.0.2->autokeras) (5.0.6)\n",
      "Requirement already satisfied: backcall in c:\\users\\geeta\\anaconda3\\lib\\site-packages (from ipython->keras-tuner<1.1,>=1.0.2->autokeras) (0.2.0)\n",
      "Requirement already satisfied: jedi>=0.16 in c:\\users\\geeta\\anaconda3\\lib\\site-packages (from ipython->keras-tuner<1.1,>=1.0.2->autokeras) (0.17.2)\n",
      "Requirement already satisfied: parso<0.8.0,>=0.7.0 in c:\\users\\geeta\\anaconda3\\lib\\site-packages (from jedi>=0.16->ipython->keras-tuner<1.1,>=1.0.2->autokeras) (0.7.0)\n",
      "Requirement already satisfied: wcwidth in c:\\users\\geeta\\anaconda3\\lib\\site-packages (from prompt-toolkit!=3.0.0,!=3.0.1,<3.1.0,>=2.0.0->ipython->keras-tuner<1.1,>=1.0.2->autokeras) (0.2.5)\n",
      "Requirement already satisfied: ipython-genutils in c:\\users\\geeta\\anaconda3\\lib\\site-packages (from traitlets>=4.2->ipython->keras-tuner<1.1,>=1.0.2->autokeras) (0.2.0)\n",
      "Requirement already satisfied: pyparsing>=2.0.2 in c:\\users\\geeta\\anaconda3\\lib\\site-packages (from packaging->autokeras) (2.4.7)\n",
      "Requirement already satisfied: python-dateutil>=2.7.3 in c:\\users\\geeta\\anaconda3\\lib\\site-packages (from pandas->autokeras) (2.8.1)\n",
      "Requirement already satisfied: pytz>=2017.3 in c:\\users\\geeta\\anaconda3\\lib\\site-packages (from pandas->autokeras) (2021.1)\n",
      "Requirement already satisfied: joblib>=0.11 in c:\\users\\geeta\\anaconda3\\lib\\site-packages (from scikit-learn->autokeras) (1.0.1)\n",
      "Requirement already satisfied: threadpoolctl>=2.0.0 in c:\\users\\geeta\\anaconda3\\lib\\site-packages (from scikit-learn->autokeras) (2.1.0)\n",
      "Installing collected packages: pyasn1, rsa, pyasn1-modules, oauthlib, requests-oauthlib, importlib-metadata, google-auth, tensorboard-plugin-wit, tensorboard-data-server, markdown, grpcio, google-auth-oauthlib, absl-py, termcolor, tensorflow-estimator, tensorboard, opt-einsum, kt-legacy, keras-preprocessing, keras-nightly, h5py, google-pasta, gast, flatbuffers, astunparse, tensorflow, keras-tuner, autokeras\n",
      "  Attempting uninstall: importlib-metadata\n",
      "    Found existing installation: importlib-metadata 3.10.0\n",
      "    Uninstalling importlib-metadata-3.10.0:\n",
      "      Successfully uninstalled importlib-metadata-3.10.0\n",
      "  Attempting uninstall: h5py\n",
      "    Found existing installation: h5py 2.10.0\n",
      "    Uninstalling h5py-2.10.0:\n",
      "      Successfully uninstalled h5py-2.10.0\n",
      "Successfully installed absl-py-0.15.0 astunparse-1.6.3 autokeras-1.0.16.post1 flatbuffers-1.12 gast-0.4.0 google-auth-2.3.3 google-auth-oauthlib-0.4.6 google-pasta-0.2.0 grpcio-1.34.1 h5py-3.1.0 importlib-metadata-4.8.2 keras-nightly-2.5.0.dev2021032900 keras-preprocessing-1.1.2 keras-tuner-1.0.4 kt-legacy-1.0.4 markdown-3.3.6 oauthlib-3.1.1 opt-einsum-3.3.0 pyasn1-0.4.8 pyasn1-modules-0.2.8 requests-oauthlib-1.3.0 rsa-4.8 tensorboard-2.7.0 tensorboard-data-server-0.6.1 tensorboard-plugin-wit-1.8.0 tensorflow-2.5.2 tensorflow-estimator-2.5.0 termcolor-1.1.0\n",
      "Note: you may need to restart the kernel to use updated packages.\n"
     ]
    }
   ],
   "source": [
    "pip install autokeras"
   ]
  },
  {
   "cell_type": "code",
   "execution_count": 7,
   "id": "1deb63e2",
   "metadata": {
    "ExecuteTime": {
     "end_time": "2021-11-24T20:27:13.217653Z",
     "start_time": "2021-11-24T20:27:13.203653Z"
    }
   },
   "outputs": [],
   "source": [
    "import numpy as np\n",
    "import pandas as pd\n",
    "import tensorflow as tf\n",
    "import autokeras as ak\n",
    "from sklearn.model_selection import train_test_split"
   ]
  },
  {
   "cell_type": "code",
   "execution_count": 2,
   "id": "e59d0fb7",
   "metadata": {
    "ExecuteTime": {
     "end_time": "2021-11-24T20:25:09.030625Z",
     "start_time": "2021-11-24T20:25:08.994625Z"
    }
   },
   "outputs": [],
   "source": [
    "data1 = pd.read_csv('bankruptcy-prevention.csv',sep=';')"
   ]
  },
  {
   "cell_type": "code",
   "execution_count": 3,
   "id": "7c038f2e",
   "metadata": {
    "ExecuteTime": {
     "end_time": "2021-11-24T20:25:21.280111Z",
     "start_time": "2021-11-24T20:25:21.221389Z"
    }
   },
   "outputs": [
    {
     "data": {
      "text/html": [
       "<div>\n",
       "<style scoped>\n",
       "    .dataframe tbody tr th:only-of-type {\n",
       "        vertical-align: middle;\n",
       "    }\n",
       "\n",
       "    .dataframe tbody tr th {\n",
       "        vertical-align: top;\n",
       "    }\n",
       "\n",
       "    .dataframe thead th {\n",
       "        text-align: right;\n",
       "    }\n",
       "</style>\n",
       "<table border=\"1\" class=\"dataframe\">\n",
       "  <thead>\n",
       "    <tr style=\"text-align: right;\">\n",
       "      <th></th>\n",
       "      <th>industrial_risk</th>\n",
       "      <th>management_risk</th>\n",
       "      <th>financial_flexibility</th>\n",
       "      <th>credibility</th>\n",
       "      <th>competitiveness</th>\n",
       "      <th>operating_risk</th>\n",
       "      <th>class</th>\n",
       "    </tr>\n",
       "  </thead>\n",
       "  <tbody>\n",
       "    <tr>\n",
       "      <th>0</th>\n",
       "      <td>0.5</td>\n",
       "      <td>1.0</td>\n",
       "      <td>0.0</td>\n",
       "      <td>0.0</td>\n",
       "      <td>0.0</td>\n",
       "      <td>0.5</td>\n",
       "      <td>bankruptcy</td>\n",
       "    </tr>\n",
       "    <tr>\n",
       "      <th>1</th>\n",
       "      <td>0.0</td>\n",
       "      <td>1.0</td>\n",
       "      <td>0.0</td>\n",
       "      <td>0.0</td>\n",
       "      <td>0.0</td>\n",
       "      <td>1.0</td>\n",
       "      <td>bankruptcy</td>\n",
       "    </tr>\n",
       "    <tr>\n",
       "      <th>2</th>\n",
       "      <td>1.0</td>\n",
       "      <td>0.0</td>\n",
       "      <td>0.0</td>\n",
       "      <td>0.0</td>\n",
       "      <td>0.0</td>\n",
       "      <td>1.0</td>\n",
       "      <td>bankruptcy</td>\n",
       "    </tr>\n",
       "    <tr>\n",
       "      <th>3</th>\n",
       "      <td>0.5</td>\n",
       "      <td>0.0</td>\n",
       "      <td>0.0</td>\n",
       "      <td>0.5</td>\n",
       "      <td>0.0</td>\n",
       "      <td>1.0</td>\n",
       "      <td>bankruptcy</td>\n",
       "    </tr>\n",
       "    <tr>\n",
       "      <th>4</th>\n",
       "      <td>1.0</td>\n",
       "      <td>1.0</td>\n",
       "      <td>0.0</td>\n",
       "      <td>0.0</td>\n",
       "      <td>0.0</td>\n",
       "      <td>1.0</td>\n",
       "      <td>bankruptcy</td>\n",
       "    </tr>\n",
       "    <tr>\n",
       "      <th>...</th>\n",
       "      <td>...</td>\n",
       "      <td>...</td>\n",
       "      <td>...</td>\n",
       "      <td>...</td>\n",
       "      <td>...</td>\n",
       "      <td>...</td>\n",
       "      <td>...</td>\n",
       "    </tr>\n",
       "    <tr>\n",
       "      <th>245</th>\n",
       "      <td>0.0</td>\n",
       "      <td>1.0</td>\n",
       "      <td>1.0</td>\n",
       "      <td>1.0</td>\n",
       "      <td>1.0</td>\n",
       "      <td>1.0</td>\n",
       "      <td>non-bankruptcy</td>\n",
       "    </tr>\n",
       "    <tr>\n",
       "      <th>246</th>\n",
       "      <td>1.0</td>\n",
       "      <td>1.0</td>\n",
       "      <td>0.5</td>\n",
       "      <td>1.0</td>\n",
       "      <td>1.0</td>\n",
       "      <td>0.0</td>\n",
       "      <td>non-bankruptcy</td>\n",
       "    </tr>\n",
       "    <tr>\n",
       "      <th>247</th>\n",
       "      <td>0.0</td>\n",
       "      <td>1.0</td>\n",
       "      <td>1.0</td>\n",
       "      <td>0.5</td>\n",
       "      <td>0.5</td>\n",
       "      <td>0.0</td>\n",
       "      <td>non-bankruptcy</td>\n",
       "    </tr>\n",
       "    <tr>\n",
       "      <th>248</th>\n",
       "      <td>1.0</td>\n",
       "      <td>0.0</td>\n",
       "      <td>0.5</td>\n",
       "      <td>1.0</td>\n",
       "      <td>0.5</td>\n",
       "      <td>0.0</td>\n",
       "      <td>non-bankruptcy</td>\n",
       "    </tr>\n",
       "    <tr>\n",
       "      <th>249</th>\n",
       "      <td>1.0</td>\n",
       "      <td>0.0</td>\n",
       "      <td>0.5</td>\n",
       "      <td>0.5</td>\n",
       "      <td>1.0</td>\n",
       "      <td>1.0</td>\n",
       "      <td>non-bankruptcy</td>\n",
       "    </tr>\n",
       "  </tbody>\n",
       "</table>\n",
       "<p>250 rows × 7 columns</p>\n",
       "</div>"
      ],
      "text/plain": [
       "     industrial_risk   management_risk   financial_flexibility  ...   competitiveness   operating_risk           class\n",
       "0                0.5               1.0                     0.0  ...               0.0              0.5      bankruptcy\n",
       "1                0.0               1.0                     0.0  ...               0.0              1.0      bankruptcy\n",
       "2                1.0               0.0                     0.0  ...               0.0              1.0      bankruptcy\n",
       "3                0.5               0.0                     0.0  ...               0.0              1.0      bankruptcy\n",
       "4                1.0               1.0                     0.0  ...               0.0              1.0      bankruptcy\n",
       "..               ...               ...                     ...  ...               ...              ...             ...\n",
       "245              0.0               1.0                     1.0  ...               1.0              1.0  non-bankruptcy\n",
       "246              1.0               1.0                     0.5  ...               1.0              0.0  non-bankruptcy\n",
       "247              0.0               1.0                     1.0  ...               0.5              0.0  non-bankruptcy\n",
       "248              1.0               0.0                     0.5  ...               0.5              0.0  non-bankruptcy\n",
       "249              1.0               0.0                     0.5  ...               1.0              1.0  non-bankruptcy\n",
       "\n",
       "[250 rows x 7 columns]"
      ]
     },
     "execution_count": 3,
     "metadata": {},
     "output_type": "execute_result"
    }
   ],
   "source": [
    "data1"
   ]
  },
  {
   "cell_type": "code",
   "execution_count": 4,
   "id": "c3d9b928",
   "metadata": {
    "ExecuteTime": {
     "end_time": "2021-11-24T20:25:39.582218Z",
     "start_time": "2021-11-24T20:25:39.462167Z"
    }
   },
   "outputs": [
    {
     "data": {
      "text/html": [
       "<div>\n",
       "<style scoped>\n",
       "    .dataframe tbody tr th:only-of-type {\n",
       "        vertical-align: middle;\n",
       "    }\n",
       "\n",
       "    .dataframe tbody tr th {\n",
       "        vertical-align: top;\n",
       "    }\n",
       "\n",
       "    .dataframe thead th {\n",
       "        text-align: right;\n",
       "    }\n",
       "</style>\n",
       "<table border=\"1\" class=\"dataframe\">\n",
       "  <thead>\n",
       "    <tr style=\"text-align: right;\">\n",
       "      <th></th>\n",
       "      <th>industrial_risk</th>\n",
       "      <th>management_risk</th>\n",
       "      <th>financial_flexibility</th>\n",
       "      <th>credibility</th>\n",
       "      <th>competitiveness</th>\n",
       "      <th>operating_risk</th>\n",
       "      <th>class</th>\n",
       "    </tr>\n",
       "  </thead>\n",
       "  <tbody>\n",
       "    <tr>\n",
       "      <th>0</th>\n",
       "      <td>0.5</td>\n",
       "      <td>1.0</td>\n",
       "      <td>0.0</td>\n",
       "      <td>0.0</td>\n",
       "      <td>0.0</td>\n",
       "      <td>0.5</td>\n",
       "      <td>0</td>\n",
       "    </tr>\n",
       "    <tr>\n",
       "      <th>1</th>\n",
       "      <td>0.0</td>\n",
       "      <td>1.0</td>\n",
       "      <td>0.0</td>\n",
       "      <td>0.0</td>\n",
       "      <td>0.0</td>\n",
       "      <td>1.0</td>\n",
       "      <td>0</td>\n",
       "    </tr>\n",
       "    <tr>\n",
       "      <th>2</th>\n",
       "      <td>1.0</td>\n",
       "      <td>0.0</td>\n",
       "      <td>0.0</td>\n",
       "      <td>0.0</td>\n",
       "      <td>0.0</td>\n",
       "      <td>1.0</td>\n",
       "      <td>0</td>\n",
       "    </tr>\n",
       "    <tr>\n",
       "      <th>3</th>\n",
       "      <td>0.5</td>\n",
       "      <td>0.0</td>\n",
       "      <td>0.0</td>\n",
       "      <td>0.5</td>\n",
       "      <td>0.0</td>\n",
       "      <td>1.0</td>\n",
       "      <td>0</td>\n",
       "    </tr>\n",
       "    <tr>\n",
       "      <th>4</th>\n",
       "      <td>1.0</td>\n",
       "      <td>1.0</td>\n",
       "      <td>0.0</td>\n",
       "      <td>0.0</td>\n",
       "      <td>0.0</td>\n",
       "      <td>1.0</td>\n",
       "      <td>0</td>\n",
       "    </tr>\n",
       "    <tr>\n",
       "      <th>...</th>\n",
       "      <td>...</td>\n",
       "      <td>...</td>\n",
       "      <td>...</td>\n",
       "      <td>...</td>\n",
       "      <td>...</td>\n",
       "      <td>...</td>\n",
       "      <td>...</td>\n",
       "    </tr>\n",
       "    <tr>\n",
       "      <th>245</th>\n",
       "      <td>0.0</td>\n",
       "      <td>1.0</td>\n",
       "      <td>1.0</td>\n",
       "      <td>1.0</td>\n",
       "      <td>1.0</td>\n",
       "      <td>1.0</td>\n",
       "      <td>1</td>\n",
       "    </tr>\n",
       "    <tr>\n",
       "      <th>246</th>\n",
       "      <td>1.0</td>\n",
       "      <td>1.0</td>\n",
       "      <td>0.5</td>\n",
       "      <td>1.0</td>\n",
       "      <td>1.0</td>\n",
       "      <td>0.0</td>\n",
       "      <td>1</td>\n",
       "    </tr>\n",
       "    <tr>\n",
       "      <th>247</th>\n",
       "      <td>0.0</td>\n",
       "      <td>1.0</td>\n",
       "      <td>1.0</td>\n",
       "      <td>0.5</td>\n",
       "      <td>0.5</td>\n",
       "      <td>0.0</td>\n",
       "      <td>1</td>\n",
       "    </tr>\n",
       "    <tr>\n",
       "      <th>248</th>\n",
       "      <td>1.0</td>\n",
       "      <td>0.0</td>\n",
       "      <td>0.5</td>\n",
       "      <td>1.0</td>\n",
       "      <td>0.5</td>\n",
       "      <td>0.0</td>\n",
       "      <td>1</td>\n",
       "    </tr>\n",
       "    <tr>\n",
       "      <th>249</th>\n",
       "      <td>1.0</td>\n",
       "      <td>0.0</td>\n",
       "      <td>0.5</td>\n",
       "      <td>0.5</td>\n",
       "      <td>1.0</td>\n",
       "      <td>1.0</td>\n",
       "      <td>1</td>\n",
       "    </tr>\n",
       "  </tbody>\n",
       "</table>\n",
       "<p>250 rows × 7 columns</p>\n",
       "</div>"
      ],
      "text/plain": [
       "     industrial_risk   management_risk   financial_flexibility   credibility   competitiveness   operating_risk   class\n",
       "0                0.5               1.0                     0.0           0.0               0.0              0.5       0\n",
       "1                0.0               1.0                     0.0           0.0               0.0              1.0       0\n",
       "2                1.0               0.0                     0.0           0.0               0.0              1.0       0\n",
       "3                0.5               0.0                     0.0           0.5               0.0              1.0       0\n",
       "4                1.0               1.0                     0.0           0.0               0.0              1.0       0\n",
       "..               ...               ...                     ...           ...               ...              ...     ...\n",
       "245              0.0               1.0                     1.0           1.0               1.0              1.0       1\n",
       "246              1.0               1.0                     0.5           1.0               1.0              0.0       1\n",
       "247              0.0               1.0                     1.0           0.5               0.5              0.0       1\n",
       "248              1.0               0.0                     0.5           1.0               0.5              0.0       1\n",
       "249              1.0               0.0                     0.5           0.5               1.0              1.0       1\n",
       "\n",
       "[250 rows x 7 columns]"
      ]
     },
     "execution_count": 4,
     "metadata": {},
     "output_type": "execute_result"
    }
   ],
   "source": [
    "# Creating dummy for Categorical variables\n",
    "from sklearn.preprocessing import LabelEncoder\n",
    "le=LabelEncoder()\n",
    "for column_name in data1.columns:\n",
    "    if data1[column_name].dtype==object:\n",
    "        data1[column_name]=le.fit_transform(data1[column_name])\n",
    "    else:\n",
    "        pass\n",
    "\n",
    "data1"
   ]
  },
  {
   "cell_type": "code",
   "execution_count": 5,
   "id": "50dc9580",
   "metadata": {
    "ExecuteTime": {
     "end_time": "2021-11-24T20:26:06.433244Z",
     "start_time": "2021-11-24T20:26:06.417462Z"
    }
   },
   "outputs": [],
   "source": [
    "x1=data1.iloc[:,0:-1]\n",
    "y1=data1.iloc[:,-1]"
   ]
  },
  {
   "cell_type": "code",
   "execution_count": 8,
   "id": "904a051a",
   "metadata": {
    "ExecuteTime": {
     "end_time": "2021-11-24T20:27:18.884549Z",
     "start_time": "2021-11-24T20:27:18.861690Z"
    }
   },
   "outputs": [],
   "source": [
    "x_train, x_test,y_train,y_test = train_test_split(x1,y1, test_size=0.2,random_state=1)"
   ]
  },
  {
   "cell_type": "code",
   "execution_count": 9,
   "id": "e9809e92",
   "metadata": {
    "ExecuteTime": {
     "end_time": "2021-11-24T20:28:23.866919Z",
     "start_time": "2021-11-24T20:28:23.769174Z"
    }
   },
   "outputs": [],
   "source": [
    "clf = ak.StructuredDataClassifier(overwrite=True, max_trials=3)"
   ]
  },
  {
   "cell_type": "code",
   "execution_count": 10,
   "id": "9c870339",
   "metadata": {
    "ExecuteTime": {
     "end_time": "2021-11-24T20:28:54.863280Z",
     "start_time": "2021-11-24T20:28:39.834062Z"
    }
   },
   "outputs": [
    {
     "name": "stdout",
     "output_type": "stream",
     "text": [
      "Trial 3 Complete [00h 00m 03s]\n",
      "val_accuracy: 0.875\n",
      "\n",
      "Best val_accuracy So Far: 0.875\n",
      "Total elapsed time: 00h 00m 09s\n",
      "INFO:tensorflow:Oracle triggered exit\n",
      "Epoch 1/10\n",
      "7/7 [==============================] - 0s 3ms/step - loss: 0.6654 - accuracy: 0.5750\n",
      "Epoch 2/10\n",
      "7/7 [==============================] - 0s 2ms/step - loss: 0.5989 - accuracy: 0.7950\n",
      "Epoch 3/10\n",
      "7/7 [==============================] - 0s 3ms/step - loss: 0.5391 - accuracy: 0.8700\n",
      "Epoch 4/10\n",
      "7/7 [==============================] - 0s 2ms/step - loss: 0.4832 - accuracy: 0.8800\n",
      "Epoch 5/10\n",
      "7/7 [==============================] - 0s 2ms/step - loss: 0.4304 - accuracy: 0.8800\n",
      "Epoch 6/10\n",
      "7/7 [==============================] - 0s 2ms/step - loss: 0.3814 - accuracy: 0.9100\n",
      "Epoch 7/10\n",
      "7/7 [==============================] - 0s 2ms/step - loss: 0.3372 - accuracy: 0.9350\n",
      "Epoch 8/10\n",
      "7/7 [==============================] - 0s 2ms/step - loss: 0.2988 - accuracy: 0.9500\n",
      "Epoch 9/10\n",
      "7/7 [==============================] - 0s 2ms/step - loss: 0.2662 - accuracy: 0.9650\n",
      "Epoch 10/10\n",
      "7/7 [==============================] - 0s 2ms/step - loss: 0.2390 - accuracy: 0.9650\n",
      "INFO:tensorflow:Assets written to: .\\structured_data_classifier\\best_model\\assets\n"
     ]
    },
    {
     "data": {
      "text/plain": [
       "<tensorflow.python.keras.callbacks.History at 0x138e7743eb0>"
      ]
     },
     "execution_count": 10,
     "metadata": {},
     "output_type": "execute_result"
    }
   ],
   "source": [
    "clf.fit(x_train, y_train, epochs=10)"
   ]
  },
  {
   "cell_type": "code",
   "execution_count": 14,
   "id": "20151b9b",
   "metadata": {
    "ExecuteTime": {
     "end_time": "2021-11-24T20:35:15.687515Z",
     "start_time": "2021-11-24T20:35:14.920184Z"
    }
   },
   "outputs": [
    {
     "name": "stdout",
     "output_type": "stream",
     "text": [
      "2/2 [==============================] - 0s 0s/step\n"
     ]
    }
   ],
   "source": [
    "predicted_y = clf.predict(x_test)"
   ]
  },
  {
   "cell_type": "code",
   "execution_count": 20,
   "id": "bb95ff05",
   "metadata": {
    "ExecuteTime": {
     "end_time": "2021-11-24T20:49:14.316522Z",
     "start_time": "2021-11-24T20:49:13.446050Z"
    },
    "scrolled": true
   },
   "outputs": [
    {
     "name": "stdout",
     "output_type": "stream",
     "text": [
      "2/2 [==============================] - 0s 0s/step - loss: 0.2319 - accuracy: 0.9200\n",
      "[0.23187541961669922, 0.9200000166893005]\n"
     ]
    }
   ],
   "source": [
    "print(clf.evaluate(x_test, y_test))"
   ]
  }
 ],
 "metadata": {
  "kernelspec": {
   "display_name": "Python 3",
   "language": "python",
   "name": "python3"
  },
  "language_info": {
   "codemirror_mode": {
    "name": "ipython",
    "version": 3
   },
   "file_extension": ".py",
   "mimetype": "text/x-python",
   "name": "python",
   "nbconvert_exporter": "python",
   "pygments_lexer": "ipython3",
   "version": "3.8.8"
  },
  "varInspector": {
   "cols": {
    "lenName": 16,
    "lenType": 16,
    "lenVar": 40
   },
   "kernels_config": {
    "python": {
     "delete_cmd_postfix": "",
     "delete_cmd_prefix": "del ",
     "library": "var_list.py",
     "varRefreshCmd": "print(var_dic_list())"
    },
    "r": {
     "delete_cmd_postfix": ") ",
     "delete_cmd_prefix": "rm(",
     "library": "var_list.r",
     "varRefreshCmd": "cat(var_dic_list()) "
    }
   },
   "types_to_exclude": [
    "module",
    "function",
    "builtin_function_or_method",
    "instance",
    "_Feature"
   ],
   "window_display": false
  }
 },
 "nbformat": 4,
 "nbformat_minor": 5
}
